{
 "cells": [
  {
   "cell_type": "markdown",
   "metadata": {},
   "source": [
    "# Matrix Generation and Plot\n",
    "\n",
    "Python code used to generate $ cos \\Delta \\Phi $ matrix used in simulation for this paper: \n",
    "\n",
    "Lai, A.; Saleem, Q.; Macdonald, P.M. Centerband-Only-Detection-of-Exchange 31P nuclear magnetic resonance and phospholipid lateral diffusion: Theory, simulation and experiment. _Physical Chemistry Chemical Physics_ __2015__, 17, 25160-25171."
   ]
  },
  {
   "cell_type": "markdown",
   "metadata": {},
   "source": [
    "## Theory\n",
    "This code was written to calculate the complete powder average signal of the CODEX solid-state NMR experiment. The normalized CODEX signal intensity is given by the equation\n",
    "\n",
    "$$ \t\t\t\\frac{S(t_{m},\\delta Mt_{r})}{S_{0}(t_{z},\\delta Mt_{r})}=\\big \\langle cos \\big( |\\Phi_{2}|-| \\Phi_{1}| \\big) \\big \\rangle $$"
   ]
  },
  {
   "cell_type": "markdown",
   "metadata": {},
   "source": [
    "where $ \\Phi_{i} $ is the phase angle acquired during a given CODEX recoupling period containing M 180 degree pulses, while the angled brackets represent the powder average over all spins. The phase acquired during a given CODEX recoupling period is\n",
    "\n",
    "$$ |\\Phi_{i}|= \\Big |M\\int_{0}^{t_{r}/2} \\omega_{i}(t)dt \\Big | $$"
   ]
  },
  {
   "cell_type": "markdown",
   "metadata": {},
   "source": [
    "where the precession frequency $\\omega_{i}(t)dt$ becomes time-dependent under magic angle spinning. The equation for calculating the time-dependent precession frequency due to a rotation at an angular frequency $(\\omega_{r})$ for an axially symmetric chemical shielding tensor\n",
    "\n",
    "$$ \\omega_{i}(t)=\\frac{\\delta}{2}\\Bigg[sin^{2}\\beta_{i}cos2(\\alpha_{i}+\\omega_{r}t)-\\sqrt{2}sin2\\beta_{i}cos(\\alpha_{i}+\\omega_{r}t)\\Bigg] $$\n",
    "\n",
    "where $\\beta_{i}$ and $\\alpha_{i}$ are polar and azimuthal angles respectively, defining the orientation of the unique axis $\\omega_{z}$ within the reference frame of the spinning axis, as shown below, with $\\alpha = 0$ placed arbitrarily in the plane defined by the spinning axis and the magnetic field.\n",
    "\n",
    "<div style=\"width: 350px\">![img/CODEXGeometry.png](img/CODEXGeometry.png)</div>\n",
    "\n",
    "\n"
   ]
  },
  {
   "cell_type": "markdown",
   "metadata": {},
   "source": [
    "Thus the $ cos \\Delta \\Phi $ matrix can be calculated for all $^{31}$P nuclei of phospholipids on a spherical vesicle (LUV)"
   ]
  },
  {
   "cell_type": "markdown",
   "metadata": {},
   "source": [
    "## Python Code"
   ]
  },
  {
   "cell_type": "code",
   "execution_count": 1,
   "metadata": {},
   "outputs": [],
   "source": [
    "import numpy as np\n",
    "import matplotlib.pyplot as plt\n",
    "plt.clf() #Clears current plot\n",
    "\n",
    "\"\"\" Input Variables Here \"\"\"\n",
    "N = 3        # Number of 180 degree pulses\n",
    "CSA = 34871  # CSA of lipid in units of radians per second\n",
    "vr = 6500    # Spin speed in Hz\n",
    "\n",
    "def Calculate(b,th,a,p):\n",
    "    s = np.sin(a)*np.sin(2*b)*(1-np.sin(th)*np.sin(th)*(1+np.cos(p)*np.cos(p)))                \n",
    "    t = np.cos(a)*np.sin(b)*np.sin(2*p)*np.sin(th)*np.sin(th)                \n",
    "    u = np.sin(a)*np.cos(2*b)*np.cos(p)*np.sin(2*th)                \n",
    "    v = np.cos(a)*np.cos(b)*np.sin(p)*np.sin(2*th)                \n",
    "    w = (s-t+u+v)-(np.sin(a)*np.sin(2*b))                \n",
    "    x = np.cos(abs(w*Z))    \n",
    "    return x\n",
    "\n",
    "tr = 1/vr    # Rotor period in seconds\n",
    "wr = vr * 2 * np.pi     # Rotor speed in radians per second\n",
    "Z = (N * CSA * np.sqrt(2))/wr     #Phase prefactor\n",
    "\n",
    "\"\"\" Generate Initial Angles \"\"\"\n",
    "BetaI = np.arange(0,182,2)\n",
    "AlphaI = np.arange(0,182,2)\n",
    "ThetaJ = np.arange(0,182,2)\n",
    "PhiJ = np.arange(0,182,2)\n",
    "\n",
    "BetaI = BetaI * (np.pi/180)  # Convert angles to radians\n",
    "AlphaI = AlphaI * (np.pi/180)\n",
    "ThetaJ = ThetaJ * (np.pi/180)\n",
    "PhiJ = PhiJ * (np.pi/180)\n",
    "\n",
    "x = []\n",
    "y = []\n",
    "\n",
    "CosDeltaPhiMatrix = np.empty([len(BetaI),len(ThetaJ)])\n",
    "\n",
    "values = np.array([[(i,j) for i in range(11)] for j in range(22)]).reshape(-1,2)\n",
    "vecCalc = np.vectorize(Calculate)\n",
    "for indexB, Bi in np.ndenumerate(BetaI):    \n",
    "    for indexT, Tk in np.ndenumerate(ThetaJ):        \n",
    "        output = ([Calculate(Bi,Tk,value[0],value[1]) for value in values])\n",
    "        CosDeltaPhiMatrix[indexT,indexB] = np.mean(output)"
   ]
  },
  {
   "cell_type": "markdown",
   "metadata": {},
   "source": [
    "<div style=\"width: 350px\">![img/CosDeltaPhiMatrix.png](img/CosDeltaPhiMatrix.png)</div>\n"
   ]
  },
  {
   "cell_type": "code",
   "execution_count": null,
   "metadata": {},
   "outputs": [],
   "source": []
  }
 ],
 "metadata": {
  "kernelspec": {
   "display_name": "Python 3",
   "language": "python",
   "name": "python3"
  },
  "language_info": {
   "codemirror_mode": {
    "name": "ipython",
    "version": 3
   },
   "file_extension": ".py",
   "mimetype": "text/x-python",
   "name": "python",
   "nbconvert_exporter": "python",
   "pygments_lexer": "ipython3",
   "version": "3.6.5"
  }
 },
 "nbformat": 4,
 "nbformat_minor": 2
}
